{
  "nbformat": 4,
  "nbformat_minor": 0,
  "metadata": {
    "kernelspec": {
      "display_name": "Python 3",
      "language": "python",
      "name": "python3"
    },
    "language_info": {
      "codemirror_mode": {
        "name": "ipython",
        "version": 3
      },
      "file_extension": ".py",
      "mimetype": "text/x-python",
      "name": "python",
      "nbconvert_exporter": "python",
      "pygments_lexer": "ipython3",
      "version": "3.8.5"
    },
    "colab": {
      "name": "Logistic.ipynb",
      "provenance": [],
      "collapsed_sections": []
    },
    "accelerator": "GPU"
  },
  "cells": [
    {
      "cell_type": "markdown",
      "metadata": {
        "id": "Opc02qBWf5Zz"
      },
      "source": [
        "**CSE 512 Spring 2021 - Machine Learning - Homework 2**\n",
        "\n",
        "\n",
        "---\n",
        "\n",
        "\n",
        "Your Name: Irfan Ahmed \\\\\n",
        "Solar ID : 113166464 \\\\\n",
        "NetID Email: irfan.ahmed@stonybrook.edu"
      ]
    },
    {
      "cell_type": "code",
      "metadata": {
        "colab": {
          "base_uri": "https://localhost:8080/"
        },
        "id": "BFDfiojH5EuK",
        "outputId": "3d23c4b2-7571-4d49-ff22-046fc9b3d225"
      },
      "source": [
        "# Mount your google drive where you've saved your assignment folder\n",
        "from google.colab import drive\n",
        "drive.mount('/content/gdrive')"
      ],
      "execution_count": null,
      "outputs": [
        {
          "output_type": "stream",
          "text": [
            "Mounted at /content/gdrive\n"
          ],
          "name": "stdout"
        }
      ]
    },
    {
      "cell_type": "code",
      "metadata": {
        "scrolled": true,
        "colab": {
          "base_uri": "https://localhost:8080/"
        },
        "id": "VONZ84tg42HW",
        "outputId": "2505e099-f1c5-4c22-cb7f-4e2c528831d4"
      },
      "source": [
        "%cd /content/gdrive/MyDrive/Colab\\ Notebooks/CSE512_ML/HW2/"
      ],
      "execution_count": null,
      "outputs": [
        {
          "output_type": "stream",
          "text": [
            "/content/gdrive/MyDrive/Colab Notebooks/CSE512_ML/HW2\n"
          ],
          "name": "stdout"
        }
      ]
    },
    {
      "cell_type": "code",
      "metadata": {
        "id": "yGHSbVLH42Hj"
      },
      "source": [
        "import numpy as np\n",
        "import random \n",
        "import pandas as pd\n",
        "import scipy.stats as stats\n",
        "import matplotlib.pyplot as plt\n",
        "from sklearn.preprocessing import StandardScaler\n",
        "from sklearn.metrics import accuracy_score\n",
        "from sklearn.metrics import confusion_matrix\n",
        "from sklearn.metrics import average_precision_score\n",
        "from sklearn.metrics import precision_recall_curve, PrecisionRecallDisplay\n",
        "from numba import jit"
      ],
      "execution_count": null,
      "outputs": []
    },
    {
      "cell_type": "code",
      "metadata": {
        "colab": {
          "base_uri": "https://localhost:8080/",
          "height": 53
        },
        "id": "01lJp7ED42Hk",
        "outputId": "ac773226-64e0-422f-e956-ff7add30c442"
      },
      "source": [
        "# Parameters :\n",
        "'''\n",
        "1. X -> column vector (d x 1)\n",
        "2. X_bar -> appending 1 at end ( d+1 x 1)\n",
        "3. theta_i -> (d+1 x 1) [ theta_1 to theta_k-1], theta (k-1 x d+1)\n",
        "4. W -> learned weight matrix ( k-1 x d), W_i is learned weight vector of theta_i\n",
        "5. b -> biases ( k-1 x 1 )\n",
        "6. X ->  test data ( n x d)\n",
        "\n",
        "\n",
        "\n",
        "'''"
      ],
      "execution_count": null,
      "outputs": [
        {
          "output_type": "execute_result",
          "data": {
            "application/vnd.google.colaboratory.intrinsic+json": {
              "type": "string"
            },
            "text/plain": [
              "'\\n1. X -> column vector (d x 1)\\n2. X_bar -> appending 1 at end ( d+1 x 1)\\n3. theta_i -> (d+1 x 1) [ theta_1 to theta_k-1], theta (k-1 x d+1)\\n4. W -> learned weight matrix ( k-1 x d), W_i is learned weight vector of theta_i\\n5. b -> biases ( k-1 x 1 )\\n6. X ->  test data ( n x d)\\n\\n\\n\\n'"
            ]
          },
          "metadata": {
            "tags": []
          },
          "execution_count": 4
        }
      ]
    },
    {
      "cell_type": "code",
      "metadata": {
        "id": "MP39z9eb42Hl"
      },
      "source": [
        "def logreg_predict_prob(W, b, X):\n",
        "    theta_transpose = np.append(W,b.reshape(-1,1), axis = 1)  # reshape b if necessary b.reshape(-1,1)\n",
        "    \n",
        "    # theta_transpose ( k-1 x d+1)\n",
        "    # append 1 to X -> X_bar (n x d+1)\n",
        "    X_bar  = np.append(X, np.ones((len(X),1)), axis = 1)\n",
        "    \n",
        "    P = np.zeros((len(X),len(theta_transpose) + 1)) # n x k\n",
        "    \n",
        "    for i in range(len(X)): # 1 to n\n",
        "        A = np.zeros(len(theta_transpose) + 1) # k\n",
        "        for j in range(len(W)): # 1 to k-1\n",
        "            # P (Y =j|X; theta_transpose) \n",
        "            A[j] = np.dot(theta_transpose[j],X_bar[i])\n",
        "        A = np.exp(A - np.max(A))\n",
        "        A = A/np.sum(A)\n",
        "        P[i] = A\n",
        "    \n",
        "    return P"
      ],
      "execution_count": null,
      "outputs": []
    },
    {
      "cell_type": "code",
      "metadata": {
        "id": "fW6nM5Ew42Hm"
      },
      "source": [
        "def logreg_predict_class(W, b, X):\n",
        "    P = logreg_predict_prob(W, b, X)\n",
        "    y_hat = P.argmax(axis = 1).reshape(-1,1)\n",
        "    return y_hat"
      ],
      "execution_count": null,
      "outputs": []
    },
    {
      "cell_type": "code",
      "metadata": {
        "id": "sy78kuq142Hm"
      },
      "source": [
        "def permute(end):\n",
        "    array = np.arange(end)\n",
        "    random.shuffle(array)\n",
        "    return array.astype(np.int)\n",
        "    "
      ],
      "execution_count": null,
      "outputs": []
    },
    {
      "cell_type": "code",
      "metadata": {
        "id": "ieKzSuSe42Hm"
      },
      "source": [
        "def separate_theta_W_b(theta): # theta is k-1 x d+1\n",
        "    W = theta[:,:-1]\n",
        "    b = theta[:,-1].reshape(-1,1)\n",
        "    return W,b"
      ],
      "execution_count": null,
      "outputs": []
    },
    {
      "cell_type": "code",
      "metadata": {
        "id": "fXab6GnT42Hn"
      },
      "source": [
        "def loss_theta(X,y,theta):\n",
        "    W,b = separate_theta_W_b(theta)\n",
        "    P = logreg_predict_prob(W,b,X)\n",
        "    loss = 0.0 \n",
        "    for i in range(len(X)):\n",
        "            loss+= np.log(P[i,y[i]])\n",
        "\n",
        "    return (-1/len(X)) * loss"
      ],
      "execution_count": null,
      "outputs": []
    },
    {
      "cell_type": "code",
      "metadata": {
        "id": "VN_u8Mkd42Hn"
      },
      "source": [
        "def gradient_descent(X,y,batch,theta):\n",
        "    \n",
        "    W,b = separate_theta_W_b(theta)\n",
        "    P = logreg_predict_prob(W,b,X)\n",
        "    result = np.zeros(theta.shape)\n",
        "    for i in range(len(theta)):\n",
        "        descent = np.zeros(X.shape[1] + 1) \n",
        "        for j in batch:\n",
        "            if(y[j] == i):\n",
        "                descent = descent +  (1 - P[j,i]) * (np.append(X[j],[1]))\n",
        "            else : \n",
        "                descent = descent + (0 - P[j,i]) * (np.append(X[j],[1]))\n",
        "        \n",
        "        result[i] = descent \n",
        "                             \n",
        "    return result* (-1/len(batch))"
      ],
      "execution_count": null,
      "outputs": []
    },
    {
      "cell_type": "code",
      "metadata": {
        "id": "gf16j83I42Ho"
      },
      "source": [
        "def logreg_fit(X, y, m, eta_start, eta_end, epsilon, max_epoch = 1000):\n",
        "    # permute\n",
        "    array = permute(len(X))\n",
        "    \n",
        "    # dividing into batches\n",
        "    batches = np.array_split(array,m)\n",
        "    \n",
        "    # obtain k-value\n",
        "    k = np.max(y) + 1 \n",
        "    d = X.shape[1] # no. of features\n",
        "    \n",
        "    theta = np.zeros((k-1,d+1))\n",
        "    Loss_list = []\n",
        "    eta = eta_start\n",
        "    \n",
        "    for epoch in range(max_epoch):\n",
        "        theta_old = theta\n",
        "        for batch in batches:\n",
        "            dL_dtheta = gradient_descent(X,y,batch,theta)\n",
        "            # update theta\n",
        "            theta = theta - eta*dL_dtheta\n",
        "        \n",
        "        loss_theta_old = loss_theta(X,y,theta_old)\n",
        "        loss_theta_current = loss_theta(X,y,theta) \n",
        "        Loss_list.append(loss_theta_current)\n",
        "        \n",
        "        if( (loss_theta_old - loss_theta_current) < (epsilon * loss_theta_old) ):\n",
        "            eta = eta/10\n",
        "        if(eta < eta_end):\n",
        "            break\n",
        "        print(\"\\nCompleted epoch: \" + str(epoch))\n",
        "    W,b = separate_theta_W_b(theta)\n",
        "    Loss_list = np.array(Loss_list)\n",
        "    return W,b,Loss_list"
      ],
      "execution_count": null,
      "outputs": []
    },
    {
      "cell_type": "code",
      "metadata": {
        "id": "frlLDReg42Hp"
      },
      "source": [
        "def get_data(path):\n",
        "    covid_data = pd.read_csv(path)\n",
        "    covid_data = covid_data.to_numpy()\n",
        "    X = covid_data[:,:-1].astype(np.float64)\n",
        "    y = covid_data[:,-1].astype(int)\n",
        "    return X,y"
      ],
      "execution_count": null,
      "outputs": []
    },
    {
      "cell_type": "code",
      "metadata": {
        "id": "8vOob30k42Hp"
      },
      "source": [
        "def preprocess_data(X,Y):\n",
        "    scaler = StandardScaler()\n",
        "    X = scaler.fit_transform(X)\n",
        "    Y = scaler.transform(Y)\n",
        "    \n",
        "    return X,Y"
      ],
      "execution_count": null,
      "outputs": []
    },
    {
      "cell_type": "code",
      "metadata": {
        "scrolled": false,
        "colab": {
          "base_uri": "https://localhost:8080/"
        },
        "id": "IoJPhiC442Hp",
        "outputId": "085c1e58-0bd4-433d-9bad-25e52afdbbaf"
      },
      "source": [
        "X_train, y_train = get_data('train.csv')\n",
        "X_test, y_test = get_data('test.csv')\n",
        "\n",
        "X_train, X_test = preprocess_data(X_train,X_test)\n",
        "\n",
        "print(len(X_train[0]))\n",
        "print(X_test)\n"
      ],
      "execution_count": null,
      "outputs": [
        {
          "output_type": "stream",
          "text": [
            "95\n",
            "[[-0.99350877  1.40401609 -0.0895731  ... -0.83658652 -0.65059586\n",
            "   1.1891063 ]\n",
            " [-0.99350877  1.40401609 -0.0895731  ... -0.83658652 -0.65059586\n",
            "   1.1891063 ]\n",
            " [-0.99350877  1.40401609 -0.0895731  ... -0.83658652 -0.65059586\n",
            "   1.1891063 ]\n",
            " ...\n",
            " [-0.99350877  2.01557903 -0.0895731  ... -0.83658652  1.53705251\n",
            "  -0.84096771]\n",
            " [-0.99350877  2.07117566 -0.0895731  ... -0.83658652 -0.65059586\n",
            "   1.1891063 ]\n",
            " [-0.99350877  2.12677229 -0.0895731  ... -0.83658652 -0.65059586\n",
            "   1.1891063 ]]\n"
          ],
          "name": "stdout"
        }
      ]
    },
    {
      "cell_type": "markdown",
      "metadata": {
        "id": "QathH60H6Fzj"
      },
      "source": [
        "**Running the model to fit our training set.**\n",
        "\n",
        "---\n",
        "\n",
        "\n",
        "\n",
        "\n"
      ]
    },
    {
      "cell_type": "code",
      "metadata": {
        "scrolled": false,
        "colab": {
          "base_uri": "https://localhost:8080/"
        },
        "id": "d9j8EBYp42Hq",
        "outputId": "2eb092a3-b127-4412-ee05-b6f6ff137318"
      },
      "source": [
        "# logreg_fit(X, y, m, eta_start, eta_end, epsilon, max_epoch = 1000):\n",
        "W,b,Loss_list = logreg_fit(X_train, y_train, 256, 0.01, 0.00001, 0.0001,10)"
      ],
      "execution_count": null,
      "outputs": [
        {
          "output_type": "stream",
          "text": [
            "\n",
            "Completed epoch: 0\n",
            "\n",
            "Completed epoch: 1\n",
            "\n",
            "Completed epoch: 2\n",
            "\n",
            "Completed epoch: 3\n",
            "\n",
            "Completed epoch: 4\n",
            "\n",
            "Completed epoch: 5\n",
            "\n",
            "Completed epoch: 6\n",
            "\n",
            "Completed epoch: 7\n",
            "\n",
            "Completed epoch: 8\n",
            "\n",
            "Completed epoch: 9\n"
          ],
          "name": "stdout"
        }
      ]
    },
    {
      "cell_type": "markdown",
      "metadata": {
        "id": "NRn5C9Bi6O8V"
      },
      "source": [
        "**Plotting the Loss function**\n",
        "\n",
        "---\n",
        "\n"
      ]
    },
    {
      "cell_type": "code",
      "metadata": {
        "scrolled": true,
        "colab": {
          "base_uri": "https://localhost:8080/",
          "height": 331
        },
        "id": "Q2-9IK2C42Hr",
        "outputId": "30ae8539-b30e-4702-8608-04832d41e9c8"
      },
      "source": [
        "plot_x = np.arange(len(Loss_list))\n",
        "print(plot_x)\n",
        "print(Loss_list)\n",
        "plot_y = Loss_list \n",
        "plt.xlabel('# of epochs')\n",
        "plt.ylabel('Loss')\n",
        "plt.plot(plot_x,plot_y)\n",
        "plt.show()"
      ],
      "execution_count": null,
      "outputs": [
        {
          "output_type": "stream",
          "text": [
            "[0 1 2 3 4 5 6 7 8 9]\n",
            "[0.37995643 0.28324529 0.23867009 0.21395191 0.19847911 0.18794603\n",
            " 0.18032802 0.17456329 0.17004653 0.16640926]\n"
          ],
          "name": "stdout"
        },
        {
          "output_type": "display_data",
          "data": {
            "image/png": "[encoded data removed]",
            "text/plain": [
              "<Figure size 432x288 with 1 Axes>"
            ]
          },
          "metadata": {
            "tags": [],
            "needs_background": "light"
          }
        }
      ]
    },
    {
      "cell_type": "markdown",
      "metadata": {
        "id": "xNfWac4p5gxC"
      },
      "source": [
        "2.3.c) The values of hyperparameters chosen are \n",
        "eta_start = 0.1(Increased), m = 512(Doubled) eta_end = 0.00001, max_epochs = 40. \n",
        "\n",
        "Training Data : \n",
        "\n",
        "\n",
        "---\n",
        "\n",
        "\n",
        "\n",
        "\n",
        "*   Accuracy Score: 0.9439218523878437\n",
        "*   Accuracy from confusion matrix: 0.7551306966844182\n",
        "\n",
        "\n",
        "\n",
        "Testing Data :\n",
        "\n",
        "\n",
        "---\n",
        "\n",
        "\n",
        "*   Accuracy Score: 0.9117221418234442\n",
        "*   Accuracy from confusion matrix: 0.6426040494938133\n",
        "\n",
        "\n",
        "\n",
        "\n",
        "\n",
        "\n",
        "With these new values, the number of epochs taken to converge is around 40 and same accuracy with original values. \n",
        "Reasoning behind chosing these values comes from 2.3.b,where increasing eta and increasing m maintained same accuracy but converged faster. Hence the early stopping was identified and used in this hyperparameters. \n",
        "\n",
        "Other approaches such as Grid search and Random search can be used for hyperparameter optimisation but the computations are taking a toll. "
      ]
    },
    {
      "cell_type": "markdown",
      "metadata": {
        "id": "5Xya9bNBaEzg"
      },
      "source": [
        "2.3.2.b)Increasing (eta_start)learning rate(0.1), decreases my loss function faster and converges earlier (at 30). The accuracy on testing data increased to 91.7% (earlier 90.5%). \n",
        "Decreasing learning rate(0.001), increases no of epochs to converge. The accuracy remains same with slight difference. \n",
        "\n",
        "\n",
        "Decreasing batch size(100) decreases convergence rate of my loss function and the epochs have increased. Final performance is lowered a little bit. Increasing batch size(doubled now) maintained the same final performance but the loss converged at 30 epochs(earlier). \n",
        "\n",
        "Increasing eta_end, increases the no of epochs keeping the performance nearly same as original params. It looks like the model reaches the same performance but slowly.\n",
        "\n",
        "Decreasing max epochs (<20) does not coverge the loss function. Increasing the max epochs gives no meaning as loss converges and no point in training further. \n",
        "\n",
        "\n"
      ]
    },
    {
      "cell_type": "markdown",
      "metadata": {
        "id": "f-Ibm4NpVoa8"
      },
      "source": [
        "Without feature normalization, the model is increasing in loss and then converging. The number of epochs have reduced are now being dependent on eta_start and eta_end. It implies that the loss is not converging but decreasing the learning rate in this regard. Changing eta_end to 10^-12 shows loss has increased to a certain level and converged there. The final performance of the model has been decreased but nothing significant."
      ]
    },
    {
      "cell_type": "markdown",
      "metadata": {
        "id": "PoqREiTkSfzl"
      },
      "source": [
        "With increasing epochs, the loss function converges to a constant value and does not increase or decrease much from the previous value. From the graph it can be observed that beyond 40 epochs, there is no use training the model further as the loss has converged.\n"
      ]
    },
    {
      "cell_type": "markdown",
      "metadata": {
        "id": "YWEPoj146j-2"
      },
      "source": [
        "**Obtain Predictions for Training and Testing Data**\n",
        "\n",
        "---\n",
        "\n"
      ]
    },
    {
      "cell_type": "code",
      "metadata": {
        "id": "wmdneih142Hs"
      },
      "source": [
        "y_train_pred = logreg_predict_class(W,b,X_train)\n",
        "y_test_pred = logreg_predict_class(W,b,X_test) \n",
        "\n",
        "#print(y_test_pred.reshape(1,-1))\n",
        "#print(y_test.reshape(1,-1))"
      ],
      "execution_count": null,
      "outputs": []
    },
    {
      "cell_type": "markdown",
      "metadata": {
        "id": "9xJ8U-Yn6tAc"
      },
      "source": [
        "***Performance Metrics***\n",
        "\n",
        "\n",
        "*   Accuracy\n",
        "*   Confusion Matrix\n",
        "*   Accuracy from Confusion Matrix\n",
        "\n",
        "\n",
        "\n",
        "---\n",
        "\n"
      ]
    },
    {
      "cell_type": "code",
      "metadata": {
        "id": "QHPf3xUv42Ht"
      },
      "source": [
        "def report_results(y,y_hat):\n",
        "    accuracy_metric = accuracy_score(y, y_hat)\n",
        "    confusion = confusion_matrix(y, y_hat, normalize = 'true')\n",
        "    trace_CM = np.trace(confusion)\n",
        "    total_population = np.sum(confusion)\n",
        "    accuracy = trace_CM/total_population\n",
        "    \n",
        "    print(\"\\nPerformance Metrics:\")\n",
        "    print(\"\\nAccuracy Score:\" + str(accuracy_metric))\n",
        "\n",
        "    print(\"\\n Confusion Matrix : \")\n",
        "    print(confusion)\n",
        "\n",
        "    print(\"\\n Accuracy from confusion matrix:\" + str(accuracy))\n",
        "\n",
        "    #return accuracy_metric, confusion, accuracy"
      ],
      "execution_count": null,
      "outputs": []
    },
    {
      "cell_type": "code",
      "metadata": {
        "scrolled": true,
        "colab": {
          "base_uri": "https://localhost:8080/"
        },
        "id": "Cogfqw3X42Hv",
        "outputId": "018634bb-ed6d-461c-9528-5d2665896c7b"
      },
      "source": [
        "print(\"----------Training Data----------\\n\")\n",
        "report_results(y_train,y_train_pred)\n",
        "\n",
        "print(\"----------Testing Data----------\\n\")\n",
        "report_results(y_test,y_test_pred)\n",
        "\n",
        "#report_results(y_train,y_train_pred)"
      ],
      "execution_count": null,
      "outputs": [
        {
          "output_type": "stream",
          "text": [
            "----------Training Data----------\n",
            "\n",
            "\n",
            "Performance Metrics:\n",
            "\n",
            "Accuracy Score:0.9417510853835022\n",
            "\n",
            " Confusion Matrix : \n",
            "[[0.98457888 0.01542112]\n",
            " [0.51914894 0.48085106]]\n",
            "\n",
            " Accuracy from confusion matrix:0.7327149743822721\n",
            "----------Testing Data----------\n",
            "\n",
            "\n",
            "Performance Metrics:\n",
            "\n",
            "Accuracy Score:0.91027496382055\n",
            "\n",
            " Confusion Matrix : \n",
            "[[0.97007874 0.02992126]\n",
            " [0.76785714 0.23214286]]\n",
            "\n",
            " Accuracy from confusion matrix:0.6011107986501687\n"
          ],
          "name": "stdout"
        }
      ]
    },
    {
      "cell_type": "code",
      "metadata": {
        "id": "szpFhgwf42Hv"
      },
      "source": [
        "def avg_precision_and_precision_recall_curve(X,y,W,b):\n",
        "    P = logreg_predict_prob(W, b, np.array(X))\n",
        "    y_score = []\n",
        "    #X = [X[i] for i in range(X.shape[0]) if y[i] == 1]\n",
        "    #y_score = logreg_predict_class(W,b,X)\n",
        "    for i in range(len(X)):\n",
        "      y_score.append(P[i,1])\n",
        "\n",
        "    \n",
        "    #y = [y[i] for i in range(len(y)) if y[i] == 1] \n",
        "    #y_score = [y_score[i] for i in range(len(y)) if y[i] == 1 ]\n",
        "    #print(accuracy_score(y,y_score))\n",
        "    #print(y_score)\n",
        "    y,y_score = np.array(y), np.array(y_score,dtype=np.float32)\n",
        "    y = y.flatten()\n",
        "    y_score = y_score.flatten()\n",
        "\n",
        "    avg_prec_score = average_precision_score(y, y_score)\n",
        "    precision, recall, thresholds = precision_recall_curve(y, y_score)\n",
        "\n",
        "    #precision = [precision[i] for i in range(len(y)-1) if y[i] == 1]\n",
        "    #recall = [recall[i] for i in range(len(y)-1) if y[i] == 1]\n",
        "    \n",
        "    print(\"Average Precision Score: \" + str(avg_prec_score))\n",
        "    \n",
        "    \n",
        "    plt.plot(recall, precision)\n",
        "    plt.xlabel('Recall (Positive label : 1)')\n",
        "    plt.ylabel('Precision (Positive label : 1)')\n",
        "    plt.show()\n",
        "    \n",
        "    #disp = PrecisionRecallDisplay(precision=precision, recall=recall)\n",
        "    #disp.plot() \n",
        "    \n",
        "\n",
        "    return avg_prec_score, precision, recall, thresholds\n",
        "    "
      ],
      "execution_count": null,
      "outputs": []
    },
    {
      "cell_type": "code",
      "metadata": {
        "colab": {
          "base_uri": "https://localhost:8080/",
          "height": 1000
        },
        "id": "wl0Zic2642Hw",
        "outputId": "64fa4866-51fc-437b-8f4d-417f940df59e"
      },
      "source": [
        "avg_precision_and_precision_recall_curve(X_test,y_test,W,b)"
      ],
      "execution_count": null,
      "outputs": [
        {
          "output_type": "stream",
          "text": [
            "Average Precision Score: 0.31201202916949466\n"
          ],
          "name": "stdout"
        },
        {
          "output_type": "display_data",
          "data": {
            "image/png": "[encoded data removed]",
            "text/plain": [
              "<Figure size 432x288 with 1 Axes>"
            ]
          },
          "metadata": {
            "tags": [],
            "needs_background": "light"
          }
        },
        {
          "output_type": "execute_result",
          "data": {
            "text/plain": [
              "(0.31201202916949466,\n",
              " array([0.08358209, 0.08221226, 0.08233533, 0.08245877, 0.08258258,\n",
              "        0.08270677, 0.08283133, 0.08295626, 0.08308157, 0.08320726,\n",
              "        0.08333333, 0.08345979, 0.08358663, 0.08371385, 0.08384146,\n",
              "        0.08396947, 0.08409786, 0.08422665, 0.08435583, 0.08448541,\n",
              "        0.08461538, 0.08474576, 0.08487654, 0.08500773, 0.08513932,\n",
              "        0.08527132, 0.08540373, 0.08553655, 0.08566978, 0.08580343,\n",
              "        0.0859375 , 0.08607199, 0.0862069 , 0.08634223, 0.08647799,\n",
              "        0.08661417, 0.08675079, 0.08688784, 0.08702532, 0.08716323,\n",
              "        0.08730159, 0.08744038, 0.08757962, 0.0877193 , 0.08785942,\n",
              "        0.088     , 0.08814103, 0.0882825 , 0.08842444, 0.08856683,\n",
              "        0.08870968, 0.08885299, 0.08899676, 0.089141  , 0.08928571,\n",
              "        0.08943089, 0.08957655, 0.08972268, 0.08986928, 0.09001637,\n",
              "        0.09016393, 0.09031199, 0.09046053, 0.09060956, 0.09075908,\n",
              "        0.09090909, 0.0910596 , 0.09121061, 0.09136213, 0.09151414,\n",
              "        0.09166667, 0.0918197 , 0.09197324, 0.0921273 , 0.09228188,\n",
              "        0.09243697, 0.09259259, 0.09274874, 0.09290541, 0.09306261,\n",
              "        0.09322034, 0.09337861, 0.09353741, 0.09369676, 0.09385666,\n",
              "        0.09401709, 0.09417808, 0.09433962, 0.09450172, 0.09466437,\n",
              "        0.09482759, 0.09499136, 0.09342561, 0.09358752, 0.09375   ,\n",
              "        0.09391304, 0.09233449, 0.09249564, 0.09265734, 0.09281961,\n",
              "        0.09298246, 0.09314587, 0.09330986, 0.09347443, 0.09363958,\n",
              "        0.09380531, 0.09397163, 0.09413854, 0.09430605, 0.09447415,\n",
              "        0.09464286, 0.09481216, 0.09498208, 0.0951526 , 0.09532374,\n",
              "        0.0954955 , 0.09566787, 0.09584087, 0.09601449, 0.09618875,\n",
              "        0.09636364, 0.09653916, 0.09671533, 0.09689214, 0.0952381 ,\n",
              "        0.09541284, 0.09558824, 0.09576427, 0.09594096, 0.0961183 ,\n",
              "        0.0962963 , 0.09647495, 0.09665428, 0.09683426, 0.09701493,\n",
              "        0.09719626, 0.09737828, 0.09756098, 0.09774436, 0.09792844,\n",
              "        0.09811321, 0.09829868, 0.09848485, 0.09867173, 0.09885932,\n",
              "        0.09904762, 0.09923664, 0.09942639, 0.09961686, 0.09980806,\n",
              "        0.1       , 0.10019268, 0.1003861 , 0.10058027, 0.10077519,\n",
              "        0.10097087, 0.10116732, 0.10136452, 0.1015625 , 0.10176125,\n",
              "        0.10196078, 0.1021611 , 0.1023622 , 0.1025641 , 0.1027668 ,\n",
              "        0.1029703 , 0.1031746 , 0.10337972, 0.10358566, 0.10379242,\n",
              "        0.104     , 0.10420842, 0.10441767, 0.10462777, 0.10483871,\n",
              "        0.10505051, 0.10526316, 0.10547667, 0.10569106, 0.10590631,\n",
              "        0.10612245, 0.10633947, 0.10655738, 0.10677618, 0.10699588,\n",
              "        0.10721649, 0.10743802, 0.10766046, 0.10788382, 0.10810811,\n",
              "        0.10625   , 0.10647182, 0.10669456, 0.10691824, 0.10714286,\n",
              "        0.10736842, 0.10759494, 0.10782241, 0.10805085, 0.10615711,\n",
              "        0.10638298, 0.10660981, 0.10683761, 0.10706638, 0.10729614,\n",
              "        0.10752688, 0.10775862, 0.10799136, 0.10822511, 0.10845987,\n",
              "        0.10869565, 0.10893246, 0.10917031, 0.10940919, 0.10964912,\n",
              "        0.10989011, 0.11013216, 0.11037528, 0.11061947, 0.11086475,\n",
              "        0.11111111, 0.11135857, 0.109375  , 0.10961969, 0.10986547,\n",
              "        0.11011236, 0.11036036, 0.11060948, 0.11085973, 0.11111111,\n",
              "        0.11136364, 0.11161731, 0.11187215, 0.11212815, 0.11238532,\n",
              "        0.11264368, 0.11290323, 0.11316397, 0.11342593, 0.1136891 ,\n",
              "        0.11395349, 0.11421911, 0.11448598, 0.1147541 , 0.11502347,\n",
              "        0.11529412, 0.11556604, 0.11583924, 0.11611374, 0.11638955,\n",
              "        0.11666667, 0.11455847, 0.11483254, 0.11510791, 0.11538462,\n",
              "        0.11566265, 0.11594203, 0.11622276, 0.11650485, 0.11678832,\n",
              "        0.11707317, 0.11735941, 0.11764706, 0.11793612, 0.1182266 ,\n",
              "        0.11851852, 0.11881188, 0.1191067 , 0.11940299, 0.11970075,\n",
              "        0.12      , 0.12030075, 0.12060302, 0.1209068 , 0.12121212,\n",
              "        0.12151899, 0.12182741, 0.1221374 , 0.12244898, 0.12276215,\n",
              "        0.12307692, 0.12339332, 0.12371134, 0.12403101, 0.12435233,\n",
              "        0.12467532, 0.125     , 0.12532637, 0.12303665, 0.12335958,\n",
              "        0.12368421, 0.12401055, 0.12433862, 0.12201592, 0.12234043,\n",
              "        0.12266667, 0.12299465, 0.1233244 , 0.12365591, 0.12398922,\n",
              "        0.12432432, 0.12466125, 0.125     , 0.1253406 , 0.12568306,\n",
              "        0.1260274 , 0.12637363, 0.12672176, 0.12707182, 0.12742382,\n",
              "        0.12777778, 0.1281337 , 0.12849162, 0.12885154, 0.12921348,\n",
              "        0.12957746, 0.12711864, 0.12747875, 0.12784091, 0.12820513,\n",
              "        0.12857143, 0.12893983, 0.12931034, 0.129683  , 0.1300578 ,\n",
              "        0.13043478, 0.13081395, 0.13119534, 0.13157895, 0.13196481,\n",
              "        0.12941176, 0.12979351, 0.13017751, 0.1305638 , 0.13095238,\n",
              "        0.13134328, 0.13173653, 0.13213213, 0.13253012, 0.13293051,\n",
              "        0.13333333, 0.1337386 , 0.13414634, 0.13455657, 0.13496933,\n",
              "        0.13538462, 0.13580247, 0.13312693, 0.13354037, 0.13395639,\n",
              "        0.134375  , 0.13479624, 0.13522013, 0.13564669, 0.13607595,\n",
              "        0.13650794, 0.13694268, 0.13738019, 0.13782051, 0.13826367,\n",
              "        0.13870968, 0.13915858, 0.13961039, 0.14006515, 0.14052288,\n",
              "        0.14098361, 0.14144737, 0.14191419, 0.14238411, 0.14285714,\n",
              "        0.14333333, 0.14381271, 0.1442953 , 0.14478114, 0.14527027,\n",
              "        0.14576271, 0.1462585 , 0.14675768, 0.14726027, 0.14776632,\n",
              "        0.14827586, 0.14878893, 0.14930556, 0.14982578, 0.15034965,\n",
              "        0.15087719, 0.15140845, 0.15194346, 0.15248227, 0.15302491,\n",
              "        0.15357143, 0.15412186, 0.15467626, 0.15162455, 0.15217391,\n",
              "        0.15272727, 0.15328467, 0.15384615, 0.15441176, 0.15498155,\n",
              "        0.15555556, 0.15613383, 0.15671642, 0.15730337, 0.15789474,\n",
              "        0.15849057, 0.15909091, 0.15969582, 0.16030534, 0.16091954,\n",
              "        0.16153846, 0.16216216, 0.1627907 , 0.16342412, 0.1640625 ,\n",
              "        0.16470588, 0.16535433, 0.16600791, 0.16666667, 0.16733068,\n",
              "        0.168     , 0.1686747 , 0.16935484, 0.17004049, 0.17073171,\n",
              "        0.17142857, 0.17213115, 0.17283951, 0.17355372, 0.17427386,\n",
              "        0.175     , 0.17573222, 0.17647059, 0.17721519, 0.1779661 ,\n",
              "        0.1787234 , 0.17948718, 0.18025751, 0.18103448, 0.18181818,\n",
              "        0.1826087 , 0.18340611, 0.18421053, 0.18502203, 0.18584071,\n",
              "        0.18666667, 0.1875    , 0.18834081, 0.18918919, 0.19004525,\n",
              "        0.18636364, 0.18721461, 0.18807339, 0.18894009, 0.18981481,\n",
              "        0.19069767, 0.19158879, 0.19248826, 0.19339623, 0.1943128 ,\n",
              "        0.1952381 , 0.19617225, 0.19711538, 0.19806763, 0.19902913,\n",
              "        0.2       , 0.20098039, 0.20197044, 0.2029703 , 0.2039801 ,\n",
              "        0.205     , 0.20603015, 0.20707071, 0.20812183, 0.20918367,\n",
              "        0.21025641, 0.21134021, 0.21243523, 0.21354167, 0.21465969,\n",
              "        0.21578947, 0.21693122, 0.21276596, 0.21390374, 0.21505376,\n",
              "        0.21621622, 0.2173913 , 0.21857923, 0.21978022, 0.22099448,\n",
              "        0.22222222, 0.22346369, 0.2247191 , 0.2259887 , 0.22727273,\n",
              "        0.22857143, 0.22988506, 0.23121387, 0.23255814, 0.23391813,\n",
              "        0.23529412, 0.23668639, 0.23809524, 0.23952096, 0.23493976,\n",
              "        0.23636364, 0.23780488, 0.23312883, 0.2345679 , 0.23602484,\n",
              "        0.2375    , 0.23899371, 0.23417722, 0.23566879, 0.23717949,\n",
              "        0.23870968, 0.24025974, 0.24183007, 0.24342105, 0.24503311,\n",
              "        0.24666667, 0.24832215, 0.25      , 0.25170068, 0.25342466,\n",
              "        0.25517241, 0.25694444, 0.25874126, 0.26056338, 0.26241135,\n",
              "        0.26428571, 0.26618705, 0.26811594, 0.26277372, 0.26470588,\n",
              "        0.26666667, 0.26865672, 0.27067669, 0.27272727, 0.27480916,\n",
              "        0.27692308, 0.27906977, 0.28125   , 0.28346457, 0.28571429,\n",
              "        0.288     , 0.29032258, 0.29268293, 0.29508197, 0.29752066,\n",
              "        0.3       , 0.30252101, 0.30508475, 0.30769231, 0.30172414,\n",
              "        0.29565217, 0.29824561, 0.30088496, 0.30357143, 0.30630631,\n",
              "        0.30909091, 0.31192661, 0.31481481, 0.31775701, 0.32075472,\n",
              "        0.32380952, 0.32692308, 0.33009709, 0.33333333, 0.32673267,\n",
              "        0.32      , 0.32323232, 0.32653061, 0.32989691, 0.33333333,\n",
              "        0.33684211, 0.32978723, 0.33333333, 0.32608696, 0.32967033,\n",
              "        0.33333333, 0.33707865, 0.34090909, 0.34482759, 0.34883721,\n",
              "        0.35294118, 0.35714286, 0.36144578, 0.35365854, 0.35802469,\n",
              "        0.3625    , 0.36708861, 0.37179487, 0.37662338, 0.36842105,\n",
              "        0.37333333, 0.37837838, 0.36986301, 0.375     , 0.36619718,\n",
              "        0.37142857, 0.37681159, 0.38235294, 0.3880597 , 0.37878788,\n",
              "        0.36923077, 0.375     , 0.38095238, 0.38709677, 0.39344262,\n",
              "        0.4       , 0.40677966, 0.4137931 , 0.42105263, 0.41071429,\n",
              "        0.4       , 0.40740741, 0.41509434, 0.42307692, 0.43137255,\n",
              "        0.42      , 0.42857143, 0.41666667, 0.40425532, 0.41304348,\n",
              "        0.4       , 0.38636364, 0.37209302, 0.35714286, 0.36585366,\n",
              "        0.375     , 0.38461538, 0.39473684, 0.37837838, 0.36111111,\n",
              "        0.37142857, 0.38235294, 0.39393939, 0.40625   , 0.41935484,\n",
              "        0.4       , 0.37931034, 0.35714286, 0.37037037, 0.38461538,\n",
              "        0.4       , 0.41666667, 0.43478261, 0.45454545, 0.42857143,\n",
              "        0.4       , 0.36842105, 0.38888889, 0.41176471, 0.375     ,\n",
              "        0.33333333, 0.35714286, 0.38461538, 0.33333333, 0.36363636,\n",
              "        0.4       , 0.33333333, 0.375     , 0.42857143, 0.33333333,\n",
              "        0.2       , 0.25      , 0.33333333, 0.5       , 1.        ,\n",
              "        1.        ]),\n",
              " array([1.        , 0.98214286, 0.98214286, 0.98214286, 0.98214286,\n",
              "        0.98214286, 0.98214286, 0.98214286, 0.98214286, 0.98214286,\n",
              "        0.98214286, 0.98214286, 0.98214286, 0.98214286, 0.98214286,\n",
              "        0.98214286, 0.98214286, 0.98214286, 0.98214286, 0.98214286,\n",
              "        0.98214286, 0.98214286, 0.98214286, 0.98214286, 0.98214286,\n",
              "        0.98214286, 0.98214286, 0.98214286, 0.98214286, 0.98214286,\n",
              "        0.98214286, 0.98214286, 0.98214286, 0.98214286, 0.98214286,\n",
              "        0.98214286, 0.98214286, 0.98214286, 0.98214286, 0.98214286,\n",
              "        0.98214286, 0.98214286, 0.98214286, 0.98214286, 0.98214286,\n",
              "        0.98214286, 0.98214286, 0.98214286, 0.98214286, 0.98214286,\n",
              "        0.98214286, 0.98214286, 0.98214286, 0.98214286, 0.98214286,\n",
              "        0.98214286, 0.98214286, 0.98214286, 0.98214286, 0.98214286,\n",
              "        0.98214286, 0.98214286, 0.98214286, 0.98214286, 0.98214286,\n",
              "        0.98214286, 0.98214286, 0.98214286, 0.98214286, 0.98214286,\n",
              "        0.98214286, 0.98214286, 0.98214286, 0.98214286, 0.98214286,\n",
              "        0.98214286, 0.98214286, 0.98214286, 0.98214286, 0.98214286,\n",
              "        0.98214286, 0.98214286, 0.98214286, 0.98214286, 0.98214286,\n",
              "        0.98214286, 0.98214286, 0.98214286, 0.98214286, 0.98214286,\n",
              "        0.98214286, 0.98214286, 0.96428571, 0.96428571, 0.96428571,\n",
              "        0.96428571, 0.94642857, 0.94642857, 0.94642857, 0.94642857,\n",
              "        0.94642857, 0.94642857, 0.94642857, 0.94642857, 0.94642857,\n",
              "        0.94642857, 0.94642857, 0.94642857, 0.94642857, 0.94642857,\n",
              "        0.94642857, 0.94642857, 0.94642857, 0.94642857, 0.94642857,\n",
              "        0.94642857, 0.94642857, 0.94642857, 0.94642857, 0.94642857,\n",
              "        0.94642857, 0.94642857, 0.94642857, 0.94642857, 0.92857143,\n",
              "        0.92857143, 0.92857143, 0.92857143, 0.92857143, 0.92857143,\n",
              "        0.92857143, 0.92857143, 0.92857143, 0.92857143, 0.92857143,\n",
              "        0.92857143, 0.92857143, 0.92857143, 0.92857143, 0.92857143,\n",
              "        0.92857143, 0.92857143, 0.92857143, 0.92857143, 0.92857143,\n",
              "        0.92857143, 0.92857143, 0.92857143, 0.92857143, 0.92857143,\n",
              "        0.92857143, 0.92857143, 0.92857143, 0.92857143, 0.92857143,\n",
              "        0.92857143, 0.92857143, 0.92857143, 0.92857143, 0.92857143,\n",
              "        0.92857143, 0.92857143, 0.92857143, 0.92857143, 0.92857143,\n",
              "        0.92857143, 0.92857143, 0.92857143, 0.92857143, 0.92857143,\n",
              "        0.92857143, 0.92857143, 0.92857143, 0.92857143, 0.92857143,\n",
              "        0.92857143, 0.92857143, 0.92857143, 0.92857143, 0.92857143,\n",
              "        0.92857143, 0.92857143, 0.92857143, 0.92857143, 0.92857143,\n",
              "        0.92857143, 0.92857143, 0.92857143, 0.92857143, 0.92857143,\n",
              "        0.91071429, 0.91071429, 0.91071429, 0.91071429, 0.91071429,\n",
              "        0.91071429, 0.91071429, 0.91071429, 0.91071429, 0.89285714,\n",
              "        0.89285714, 0.89285714, 0.89285714, 0.89285714, 0.89285714,\n",
              "        0.89285714, 0.89285714, 0.89285714, 0.89285714, 0.89285714,\n",
              "        0.89285714, 0.89285714, 0.89285714, 0.89285714, 0.89285714,\n",
              "        0.89285714, 0.89285714, 0.89285714, 0.89285714, 0.89285714,\n",
              "        0.89285714, 0.89285714, 0.875     , 0.875     , 0.875     ,\n",
              "        0.875     , 0.875     , 0.875     , 0.875     , 0.875     ,\n",
              "        0.875     , 0.875     , 0.875     , 0.875     , 0.875     ,\n",
              "        0.875     , 0.875     , 0.875     , 0.875     , 0.875     ,\n",
              "        0.875     , 0.875     , 0.875     , 0.875     , 0.875     ,\n",
              "        0.875     , 0.875     , 0.875     , 0.875     , 0.875     ,\n",
              "        0.875     , 0.85714286, 0.85714286, 0.85714286, 0.85714286,\n",
              "        0.85714286, 0.85714286, 0.85714286, 0.85714286, 0.85714286,\n",
              "        0.85714286, 0.85714286, 0.85714286, 0.85714286, 0.85714286,\n",
              "        0.85714286, 0.85714286, 0.85714286, 0.85714286, 0.85714286,\n",
              "        0.85714286, 0.85714286, 0.85714286, 0.85714286, 0.85714286,\n",
              "        0.85714286, 0.85714286, 0.85714286, 0.85714286, 0.85714286,\n",
              "        0.85714286, 0.85714286, 0.85714286, 0.85714286, 0.85714286,\n",
              "        0.85714286, 0.85714286, 0.85714286, 0.83928571, 0.83928571,\n",
              "        0.83928571, 0.83928571, 0.83928571, 0.82142857, 0.82142857,\n",
              "        0.82142857, 0.82142857, 0.82142857, 0.82142857, 0.82142857,\n",
              "        0.82142857, 0.82142857, 0.82142857, 0.82142857, 0.82142857,\n",
              "        0.82142857, 0.82142857, 0.82142857, 0.82142857, 0.82142857,\n",
              "        0.82142857, 0.82142857, 0.82142857, 0.82142857, 0.82142857,\n",
              "        0.82142857, 0.80357143, 0.80357143, 0.80357143, 0.80357143,\n",
              "        0.80357143, 0.80357143, 0.80357143, 0.80357143, 0.80357143,\n",
              "        0.80357143, 0.80357143, 0.80357143, 0.80357143, 0.80357143,\n",
              "        0.78571429, 0.78571429, 0.78571429, 0.78571429, 0.78571429,\n",
              "        0.78571429, 0.78571429, 0.78571429, 0.78571429, 0.78571429,\n",
              "        0.78571429, 0.78571429, 0.78571429, 0.78571429, 0.78571429,\n",
              "        0.78571429, 0.78571429, 0.76785714, 0.76785714, 0.76785714,\n",
              "        0.76785714, 0.76785714, 0.76785714, 0.76785714, 0.76785714,\n",
              "        0.76785714, 0.76785714, 0.76785714, 0.76785714, 0.76785714,\n",
              "        0.76785714, 0.76785714, 0.76785714, 0.76785714, 0.76785714,\n",
              "        0.76785714, 0.76785714, 0.76785714, 0.76785714, 0.76785714,\n",
              "        0.76785714, 0.76785714, 0.76785714, 0.76785714, 0.76785714,\n",
              "        0.76785714, 0.76785714, 0.76785714, 0.76785714, 0.76785714,\n",
              "        0.76785714, 0.76785714, 0.76785714, 0.76785714, 0.76785714,\n",
              "        0.76785714, 0.76785714, 0.76785714, 0.76785714, 0.76785714,\n",
              "        0.76785714, 0.76785714, 0.76785714, 0.75      , 0.75      ,\n",
              "        0.75      , 0.75      , 0.75      , 0.75      , 0.75      ,\n",
              "        0.75      , 0.75      , 0.75      , 0.75      , 0.75      ,\n",
              "        0.75      , 0.75      , 0.75      , 0.75      , 0.75      ,\n",
              "        0.75      , 0.75      , 0.75      , 0.75      , 0.75      ,\n",
              "        0.75      , 0.75      , 0.75      , 0.75      , 0.75      ,\n",
              "        0.75      , 0.75      , 0.75      , 0.75      , 0.75      ,\n",
              "        0.75      , 0.75      , 0.75      , 0.75      , 0.75      ,\n",
              "        0.75      , 0.75      , 0.75      , 0.75      , 0.75      ,\n",
              "        0.75      , 0.75      , 0.75      , 0.75      , 0.75      ,\n",
              "        0.75      , 0.75      , 0.75      , 0.75      , 0.75      ,\n",
              "        0.75      , 0.75      , 0.75      , 0.75      , 0.75      ,\n",
              "        0.73214286, 0.73214286, 0.73214286, 0.73214286, 0.73214286,\n",
              "        0.73214286, 0.73214286, 0.73214286, 0.73214286, 0.73214286,\n",
              "        0.73214286, 0.73214286, 0.73214286, 0.73214286, 0.73214286,\n",
              "        0.73214286, 0.73214286, 0.73214286, 0.73214286, 0.73214286,\n",
              "        0.73214286, 0.73214286, 0.73214286, 0.73214286, 0.73214286,\n",
              "        0.73214286, 0.73214286, 0.73214286, 0.73214286, 0.73214286,\n",
              "        0.73214286, 0.73214286, 0.71428571, 0.71428571, 0.71428571,\n",
              "        0.71428571, 0.71428571, 0.71428571, 0.71428571, 0.71428571,\n",
              "        0.71428571, 0.71428571, 0.71428571, 0.71428571, 0.71428571,\n",
              "        0.71428571, 0.71428571, 0.71428571, 0.71428571, 0.71428571,\n",
              "        0.71428571, 0.71428571, 0.71428571, 0.71428571, 0.69642857,\n",
              "        0.69642857, 0.69642857, 0.67857143, 0.67857143, 0.67857143,\n",
              "        0.67857143, 0.67857143, 0.66071429, 0.66071429, 0.66071429,\n",
              "        0.66071429, 0.66071429, 0.66071429, 0.66071429, 0.66071429,\n",
              "        0.66071429, 0.66071429, 0.66071429, 0.66071429, 0.66071429,\n",
              "        0.66071429, 0.66071429, 0.66071429, 0.66071429, 0.66071429,\n",
              "        0.66071429, 0.66071429, 0.66071429, 0.64285714, 0.64285714,\n",
              "        0.64285714, 0.64285714, 0.64285714, 0.64285714, 0.64285714,\n",
              "        0.64285714, 0.64285714, 0.64285714, 0.64285714, 0.64285714,\n",
              "        0.64285714, 0.64285714, 0.64285714, 0.64285714, 0.64285714,\n",
              "        0.64285714, 0.64285714, 0.64285714, 0.64285714, 0.625     ,\n",
              "        0.60714286, 0.60714286, 0.60714286, 0.60714286, 0.60714286,\n",
              "        0.60714286, 0.60714286, 0.60714286, 0.60714286, 0.60714286,\n",
              "        0.60714286, 0.60714286, 0.60714286, 0.60714286, 0.58928571,\n",
              "        0.57142857, 0.57142857, 0.57142857, 0.57142857, 0.57142857,\n",
              "        0.57142857, 0.55357143, 0.55357143, 0.53571429, 0.53571429,\n",
              "        0.53571429, 0.53571429, 0.53571429, 0.53571429, 0.53571429,\n",
              "        0.53571429, 0.53571429, 0.53571429, 0.51785714, 0.51785714,\n",
              "        0.51785714, 0.51785714, 0.51785714, 0.51785714, 0.5       ,\n",
              "        0.5       , 0.5       , 0.48214286, 0.48214286, 0.46428571,\n",
              "        0.46428571, 0.46428571, 0.46428571, 0.46428571, 0.44642857,\n",
              "        0.42857143, 0.42857143, 0.42857143, 0.42857143, 0.42857143,\n",
              "        0.42857143, 0.42857143, 0.42857143, 0.42857143, 0.41071429,\n",
              "        0.39285714, 0.39285714, 0.39285714, 0.39285714, 0.39285714,\n",
              "        0.375     , 0.375     , 0.35714286, 0.33928571, 0.33928571,\n",
              "        0.32142857, 0.30357143, 0.28571429, 0.26785714, 0.26785714,\n",
              "        0.26785714, 0.26785714, 0.26785714, 0.25      , 0.23214286,\n",
              "        0.23214286, 0.23214286, 0.23214286, 0.23214286, 0.23214286,\n",
              "        0.21428571, 0.19642857, 0.17857143, 0.17857143, 0.17857143,\n",
              "        0.17857143, 0.17857143, 0.17857143, 0.17857143, 0.16071429,\n",
              "        0.14285714, 0.125     , 0.125     , 0.125     , 0.10714286,\n",
              "        0.08928571, 0.08928571, 0.08928571, 0.07142857, 0.07142857,\n",
              "        0.07142857, 0.05357143, 0.05357143, 0.05357143, 0.03571429,\n",
              "        0.01785714, 0.01785714, 0.01785714, 0.01785714, 0.01785714,\n",
              "        0.        ]),\n",
              " array([0.01377594, 0.01390283, 0.01393304, 0.01393622, 0.01412906,\n",
              "        0.01537562, 0.0155963 , 0.01651793, 0.01719101, 0.01769826,\n",
              "        0.01788545, 0.01836585, 0.01845112, 0.01864046, 0.01932366,\n",
              "        0.01949183, 0.02001805, 0.02005742, 0.02008501, 0.0204089 ,\n",
              "        0.02050066, 0.0210961 , 0.02113834, 0.02114997, 0.02133193,\n",
              "        0.02143958, 0.02151434, 0.0221708 , 0.02225047, 0.02270473,\n",
              "        0.02275254, 0.02295297, 0.02330096, 0.02354707, 0.02422054,\n",
              "        0.02426078, 0.02430234, 0.02531951, 0.02557309, 0.02562654,\n",
              "        0.02599097, 0.02621893, 0.02629094, 0.02642398, 0.02681495,\n",
              "        0.02694541, 0.02702173, 0.02754755, 0.02758617, 0.02772971,\n",
              "        0.0280243 , 0.02819053, 0.02819387, 0.02839627, 0.02853616,\n",
              "        0.02878458, 0.02886973, 0.03000233, 0.03018273, 0.03019719,\n",
              "        0.03029674, 0.03050639, 0.03060767, 0.03080461, 0.03095083,\n",
              "        0.03107834, 0.03136715, 0.03165205, 0.03182974, 0.03184134,\n",
              "        0.03187978, 0.03203258, 0.03208767, 0.03214691, 0.03217517,\n",
              "        0.03239262, 0.03241772, 0.0324743 , 0.03264579, 0.03310466,\n",
              "        0.03344406, 0.03358229, 0.03375932, 0.03395277, 0.03426744,\n",
              "        0.03430527, 0.03442599, 0.03447044, 0.03450207, 0.03469104,\n",
              "        0.03516607, 0.03535505, 0.03551682, 0.03552472, 0.03559475,\n",
              "        0.03572936, 0.03582572, 0.0359881 , 0.03617196, 0.0362109 ,\n",
              "        0.03629556, 0.03638739, 0.0365944 , 0.03674394, 0.03701372,\n",
              "        0.03717284, 0.0372485 , 0.03759032, 0.03767933, 0.03773787,\n",
              "        0.03811351, 0.0382596 , 0.03840169, 0.03875501, 0.03877578,\n",
              "        0.03911634, 0.03926506, 0.03934446, 0.03939043, 0.04016839,\n",
              "        0.04016982, 0.04022213, 0.04029011, 0.04042536, 0.04071053,\n",
              "        0.04078018, 0.04082242, 0.04088606, 0.04090154, 0.04110856,\n",
              "        0.0411657 , 0.0416692 , 0.04185805, 0.04197893, 0.04211513,\n",
              "        0.04244294, 0.04258785, 0.04269362, 0.04276225, 0.04280778,\n",
              "        0.04294117, 0.04307166, 0.04317965, 0.04322286, 0.04351714,\n",
              "        0.04370669, 0.04379677, 0.04387195, 0.04394464, 0.04420996,\n",
              "        0.04422216, 0.04440691, 0.04449736, 0.04453916, 0.04457095,\n",
              "        0.04462663, 0.04472641, 0.0448486 , 0.04507928, 0.045117  ,\n",
              "        0.0452296 , 0.04531971, 0.0454668 , 0.04569433, 0.04576558,\n",
              "        0.04585842, 0.04601419, 0.04640274, 0.04672748, 0.04676192,\n",
              "        0.04695645, 0.04696194, 0.04712733, 0.04718027, 0.04736813,\n",
              "        0.04745425, 0.04747437, 0.04757682, 0.04760882, 0.04773288,\n",
              "        0.04777183, 0.04781736, 0.04798776, 0.04820383, 0.04877904,\n",
              "        0.04879075, 0.04900133, 0.04931799, 0.04997103, 0.05029251,\n",
              "        0.05050904, 0.05083647, 0.05103897, 0.05105629, 0.05120637,\n",
              "        0.05127969, 0.05131288, 0.05188802, 0.05197534, 0.05200878,\n",
              "        0.05219839, 0.05229829, 0.05234727, 0.05245189, 0.05271738,\n",
              "        0.0528437 , 0.05304512, 0.05357317, 0.05414631, 0.05457659,\n",
              "        0.0546257 , 0.05492713, 0.05510074, 0.05532135, 0.0554767 ,\n",
              "        0.05564198, 0.05585305, 0.05600286, 0.05614965, 0.05615739,\n",
              "        0.05620952, 0.05620993, 0.05627579, 0.0563782 , 0.05643061,\n",
              "        0.056608  , 0.05723548, 0.05793721, 0.0579387 , 0.05797165,\n",
              "        0.05806931, 0.0582354 , 0.05827347, 0.0583282 , 0.05836274,\n",
              "        0.05867544, 0.05874892, 0.05892451, 0.05906032, 0.05912938,\n",
              "        0.05921785, 0.05959786, 0.0597057 , 0.05970882, 0.05977068,\n",
              "        0.05983304, 0.06013879, 0.06053378, 0.06063891, 0.06097586,\n",
              "        0.06112271, 0.06114579, 0.06115142, 0.06126591, 0.06147833,\n",
              "        0.0616656 , 0.06202732, 0.06213029, 0.06260309, 0.06265796,\n",
              "        0.06337523, 0.06351624, 0.06358697, 0.06360798, 0.063713  ,\n",
              "        0.06382811, 0.06383741, 0.063892  , 0.06391043, 0.06394954,\n",
              "        0.06404232, 0.06416333, 0.064348  , 0.06463542, 0.06524902,\n",
              "        0.065837  , 0.06592871, 0.06597411, 0.06618377, 0.06663202,\n",
              "        0.06665274, 0.06685098, 0.06688023, 0.06714501, 0.06761194,\n",
              "        0.06767955, 0.06769454, 0.06772646, 0.06791626, 0.0685795 ,\n",
              "        0.06893629, 0.06894347, 0.06921845, 0.06979518, 0.06983826,\n",
              "        0.07006434, 0.07008466, 0.07034763, 0.07046656, 0.07054917,\n",
              "        0.0707467 , 0.07077643, 0.07089235, 0.07090164, 0.07115137,\n",
              "        0.0711641 , 0.07187637, 0.07193907, 0.07200652, 0.07245109,\n",
              "        0.07311318, 0.07311718, 0.07341869, 0.07359474, 0.07360195,\n",
              "        0.0737692 , 0.07383746, 0.07388943, 0.07401191, 0.07403875,\n",
              "        0.07409825, 0.07444638, 0.07471979, 0.07490078, 0.07517473,\n",
              "        0.07536954, 0.07540002, 0.07543038, 0.07563525, 0.07572013,\n",
              "        0.075789  , 0.07599159, 0.07644264, 0.07656846, 0.07658547,\n",
              "        0.07660236, 0.07733046, 0.0775538 , 0.0776163 , 0.07787671,\n",
              "        0.07790603, 0.07793278, 0.07808741, 0.07848833, 0.07855169,\n",
              "        0.07877593, 0.07886051, 0.07892448, 0.0789827 , 0.07899163,\n",
              "        0.07935938, 0.08011709, 0.08062396, 0.08084828, 0.08094212,\n",
              "        0.0810464 , 0.08110106, 0.08117908, 0.081494  , 0.08162341,\n",
              "        0.08163802, 0.08215627, 0.08223268, 0.08224742, 0.08228471,\n",
              "        0.08300821, 0.0830707 , 0.08313928, 0.08322368, 0.08341672,\n",
              "        0.08347184, 0.08348151, 0.08372448, 0.0839935 , 0.08400767,\n",
              "        0.08464447, 0.08478718, 0.08480138, 0.08498695, 0.08500576,\n",
              "        0.08523487, 0.0853016 , 0.08543686, 0.08550937, 0.08562147,\n",
              "        0.0861423 , 0.08628862, 0.08634464, 0.08650348, 0.08715284,\n",
              "        0.08728788, 0.08739004, 0.08747372, 0.08787389, 0.08846749,\n",
              "        0.08853949, 0.08879249, 0.088987  , 0.08924227, 0.08930062,\n",
              "        0.08937217, 0.08953366, 0.08968296, 0.08985755, 0.08999246,\n",
              "        0.09081299, 0.09106393, 0.09112543, 0.09186212, 0.09203766,\n",
              "        0.09271079, 0.09298167, 0.09339403, 0.09362391, 0.09475818,\n",
              "        0.09569234, 0.09584546, 0.09598576, 0.09642216, 0.09659892,\n",
              "        0.09662921, 0.09667704, 0.09730825, 0.09809371, 0.09823424,\n",
              "        0.09834967, 0.09841435, 0.09856486, 0.09857398, 0.09898788,\n",
              "        0.0990293 , 0.09957054, 0.09973045, 0.10102113, 0.10113696,\n",
              "        0.1014736 , 0.10160168, 0.10177036, 0.10179856, 0.10193019,\n",
              "        0.10200857, 0.10294661, 0.10315688, 0.10380176, 0.10404587,\n",
              "        0.10423595, 0.10434193, 0.10488201, 0.10513078, 0.10576764,\n",
              "        0.10635644, 0.10691297, 0.10698003, 0.10699105, 0.10708881,\n",
              "        0.1077417 , 0.10827743, 0.10835359, 0.10849342, 0.10939004,\n",
              "        0.10949401, 0.10959466, 0.10982383, 0.10993253, 0.1100948 ,\n",
              "        0.11073876, 0.11082967, 0.11152698, 0.11181743, 0.11212415,\n",
              "        0.11277238, 0.1129441 , 0.1132772 , 0.1146648 , 0.11584605,\n",
              "        0.11592307, 0.11650799, 0.11741463, 0.11816531, 0.11831315,\n",
              "        0.11832148, 0.11880179, 0.11967624, 0.1198082 , 0.11984458,\n",
              "        0.12072128, 0.12171109, 0.122416  , 0.1226919 , 0.1230163 ,\n",
              "        0.12321316, 0.12367939, 0.12386962, 0.12392464, 0.12448461,\n",
              "        0.12544008, 0.12606987, 0.12622127, 0.12782897, 0.1301468 ,\n",
              "        0.13025913, 0.1324699 , 0.13275066, 0.13302551, 0.13312253,\n",
              "        0.13363959, 0.13483277, 0.13678893, 0.1373939 , 0.13833931,\n",
              "        0.13909557, 0.13995807, 0.14247413, 0.1427234 , 0.14295486,\n",
              "        0.14522856, 0.1461816 , 0.14637884, 0.14763129, 0.14891542,\n",
              "        0.14993389, 0.15004589, 0.15024677, 0.15210825, 0.1526622 ,\n",
              "        0.15296476, 0.1568367 , 0.15721536, 0.15834461, 0.15884395,\n",
              "        0.15888967, 0.1591    , 0.16144383, 0.16225863, 0.16259538,\n",
              "        0.16513793, 0.16567768, 0.1658377 , 0.1660563 , 0.16915922,\n",
              "        0.17202888, 0.17401154, 0.17458953, 0.17626375, 0.17673025,\n",
              "        0.17728351, 0.17791274, 0.18163751, 0.18240064, 0.18307826,\n",
              "        0.18358712, 0.18469049, 0.18510747, 0.18526411, 0.18580699,\n",
              "        0.18799342, 0.18843059, 0.18844838, 0.18958351, 0.19026218,\n",
              "        0.19027963, 0.19271676, 0.19305776, 0.19539505, 0.2033372 ,\n",
              "        0.20464942, 0.21061069, 0.21221246, 0.21515676, 0.21690632,\n",
              "        0.21694815, 0.2192895 , 0.21998456, 0.22258766, 0.22291617,\n",
              "        0.22389036, 0.22659807, 0.23033364, 0.23408946, 0.23452155,\n",
              "        0.23474766, 0.23548956, 0.2409627 , 0.24249731, 0.2437789 ,\n",
              "        0.2526879 , 0.25768408, 0.26100993, 0.26536134, 0.26719633,\n",
              "        0.26928148, 0.27179307, 0.27275753, 0.2760366 , 0.28599626,\n",
              "        0.28612086, 0.2871195 , 0.28809744, 0.2972453 , 0.30244848,\n",
              "        0.30564386, 0.30787763, 0.31021458, 0.3322971 , 0.33261132,\n",
              "        0.33473843, 0.33515134, 0.3469981 , 0.34720844, 0.34764457,\n",
              "        0.34855488, 0.35093683, 0.35280275, 0.35471383, 0.35478473,\n",
              "        0.3558569 , 0.36187968, 0.36859486, 0.36916867, 0.37212676,\n",
              "        0.38113654, 0.38448307, 0.38575512, 0.3928887 , 0.400353  ,\n",
              "        0.40307862, 0.40704313, 0.42022222, 0.4216172 , 0.43704212,\n",
              "        0.4378993 , 0.43904656, 0.4415221 , 0.44153413, 0.45462307,\n",
              "        0.46464983, 0.4782201 , 0.4787804 , 0.51339155, 0.52278626,\n",
              "        0.52809876, 0.5465104 , 0.5473067 , 0.5545046 , 0.5633604 ,\n",
              "        0.6165657 , 0.6187802 , 0.62123245, 0.6217848 , 0.64352375,\n",
              "        0.656536  , 0.6575479 , 0.6740666 , 0.68507725, 0.712016  ,\n",
              "        0.71748275, 0.72850436, 0.7366782 , 0.74078697, 0.8044856 ,\n",
              "        0.8184609 , 0.8374132 , 0.8377097 , 0.8406863 , 0.8493192 ,\n",
              "        0.9145051 , 0.94237196, 0.9426518 , 0.9566842 , 0.99437356],\n",
              "       dtype=float32))"
            ]
          },
          "metadata": {
            "tags": []
          },
          "execution_count": 25
        }
      ]
    }
  ]
}