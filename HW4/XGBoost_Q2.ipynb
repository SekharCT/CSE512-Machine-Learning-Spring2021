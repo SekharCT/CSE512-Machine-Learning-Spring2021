{
  "nbformat": 4,
  "nbformat_minor": 0,
  "metadata": {
    "colab": {
      "name": "XGBoost.ipynb",
      "provenance": [],
      "collapsed_sections": []
    },
    "kernelspec": {
      "name": "python3",
      "display_name": "Python 3"
    },
    "language_info": {
      "name": "python"
    },
    "accelerator": "GPU"
  },
  "cells": [
    {
      "cell_type": "markdown",
      "metadata": {
        "id": "g3OBVHAeXwAh"
      },
      "source": [
        "**CSE 512 Spring 2021 - Machine Learning - Homework 4**\n",
        "\n",
        "\n",
        "---\n",
        "\n",
        "\n",
        "Your Name: Irfan Ahmed \\\\\n",
        "Solar ID : 113166464 \\\\\n",
        "NetID Email: irfan.ahmed@stonybrook.edu"
      ]
    },
    {
      "cell_type": "code",
      "metadata": {
        "colab": {
          "base_uri": "https://localhost:8080/"
        },
        "id": "DZF7ma_3Buw3",
        "outputId": "99c80766-b4db-4fc2-856d-db52f7c75c74"
      },
      "source": [
        "# Mount your google drive where you've saved your assignment folder\n",
        "from google.colab import drive\n",
        "drive.mount('/content/gdrive') "
      ],
      "execution_count": null,
      "outputs": [
        {
          "output_type": "stream",
          "text": [
            "Mounted at /content/gdrive\n"
          ],
          "name": "stdout"
        }
      ]
    },
    {
      "cell_type": "code",
      "metadata": {
        "colab": {
          "base_uri": "https://localhost:8080/"
        },
        "id": "XxRK4X9xB-Qy",
        "outputId": "3d5f9660-f4af-4bba-8018-8b047d28c73d"
      },
      "source": [
        "%cd /content/gdrive/MyDrive/Colab\\ Notebooks/CSE512_ML/HW4/"
      ],
      "execution_count": null,
      "outputs": [
        {
          "output_type": "stream",
          "text": [
            "/content/gdrive/MyDrive/Colab Notebooks/CSE512_ML/HW4\n"
          ],
          "name": "stdout"
        }
      ]
    },
    {
      "cell_type": "code",
      "metadata": {
        "id": "jkZZ7gSDB_8T",
        "colab": {
          "base_uri": "https://localhost:8080/"
        },
        "outputId": "de03f229-c539-47f2-8ed7-c357c1298bc4"
      },
      "source": [
        "!pip install xgboost"
      ],
      "execution_count": null,
      "outputs": [
        {
          "output_type": "stream",
          "text": [
            "Requirement already satisfied: xgboost in /usr/local/lib/python3.7/dist-packages (0.90)\n",
            "Requirement already satisfied: numpy in /usr/local/lib/python3.7/dist-packages (from xgboost) (1.19.5)\n",
            "Requirement already satisfied: scipy in /usr/local/lib/python3.7/dist-packages (from xgboost) (1.4.1)\n"
          ],
          "name": "stdout"
        }
      ]
    },
    {
      "cell_type": "code",
      "metadata": {
        "id": "uhhfKs2tWtZ-"
      },
      "source": [
        "from xgboost import XGBClassifier\n",
        "import numpy as np\n",
        "from sklearn.preprocessing import OrdinalEncoder\n",
        "from sklearn.metrics import accuracy_score\n",
        "from sklearn.model_selection import KFold\n",
        "from sklearn.metrics import confusion_matrix\n",
        "from sklearn.metrics import average_precision_score\n",
        "from sklearn import metrics\n",
        "from sklearn.model_selection import RandomizedSearchCV\n",
        "from sklearn.impute import SimpleImputer\n",
        "import collections\n",
        "import pandas as pd\n",
        "import statistics"
      ],
      "execution_count": null,
      "outputs": []
    },
    {
      "cell_type": "code",
      "metadata": {
        "id": "CAuZW3mjcdi3"
      },
      "source": [
        "#!unzip HW4_q2.zip"
      ],
      "execution_count": null,
      "outputs": []
    },
    {
      "cell_type": "code",
      "metadata": {
        "colab": {
          "base_uri": "https://localhost:8080/"
        },
        "id": "diJhNrMQckLa",
        "outputId": "8899d1dc-185f-4717-e423-6812a1c3c37f"
      },
      "source": [
        "%cd HW4_q2/"
      ],
      "execution_count": null,
      "outputs": [
        {
          "output_type": "stream",
          "text": [
            "/content/gdrive/MyDrive/Colab Notebooks/CSE512_ML/HW4/HW4_q2\n"
          ],
          "name": "stdout"
        }
      ]
    },
    {
      "cell_type": "markdown",
      "metadata": {
        "id": "IDwLfdahiksR"
      },
      "source": [
        "age: continuous \n",
        "\n",
        "\n",
        "workclass: Private, Self-emp-not-inc, Self-emp-inc, Federal-gov, Local-gov, State-gov, Without-pay, Never-worked.\n",
        "\n",
        "\n",
        "fnlwgt: continuous.\n",
        "\n",
        "\n",
        "education: Bachelors, Some-college, 11th, HS-grad, Prof-school, Assoc-acdm, Assoc-voc, 9th, 7th-8th, 12th, Masters, 1st-4th, 10th, Doctorate, 5th-6th, Preschool.\n",
        "\n",
        "\n",
        "education-num: continuous.\n",
        "\n",
        "\n",
        "marital-status: Married-civ-spouse, Divorced, Never-married, Separated, Widowed, Married-spouse-absent, Married-AF-spouse.\n",
        "\n",
        "\n",
        "occupation: Tech-support, Craft-repair, Other-service, Sales, Exec-managerial, Prof-specialty, Handlers-cleaners, Machine-op-inspct, Adm-clerical, Farming-fishing, Transport-moving, Priv-house-serv, Protective-serv, Armed-Forces.\n",
        "\n",
        "\n",
        "relationship: Wife, Own-child, Husband, Not-in-family, Other-relative, Unmarried.\n",
        "\n",
        "\n",
        "race: White, Asian-Pac-Islander, Amer-Indian-Eskimo, Other, Black.\n",
        "\n",
        "\n",
        "sex: Female, Male.\n",
        "\n",
        "\n",
        "capital-gain: continuous.\n",
        "\n",
        "\n",
        "capital-loss: continuous.\n",
        "\n",
        "\n",
        "hours-per-week: continuous.\n",
        "\n",
        "\n",
        "native-country: United-States, Cambodia, England, Puerto-Rico, Canada, Germany, Outlying-US(Guam-USVI-etc), India, Japan, Greece, South, China, Cuba, Iran, Honduras, Philippines, Italy, Poland, Jamaica, Vietnam, Mexico, Portugal, Ireland, France, Dominican-Republic, Laos, Ecuador, Taiwan, Haiti, Columbia, Hungary, Guatemala, Nicaragua, Scotland, Thailand, Yugoslavia, El-Salvador, Trinadad&Tobago, Peru, Hong, Holand-Netherlands.\n"
      ]
    },
    {
      "cell_type": "code",
      "metadata": {
        "id": "RnSy5ZofiY-X"
      },
      "source": [
        "col_names = {'age': 0, 'workclass': 1, 'fnlwgt': 2, 'education': 3, 'education-num': 4 , 'marital-status' : 5, 'occupation' : 6, 'relationship' : 7,\n",
        "             'race': 8, 'sex': 9, 'capital-gain': 10, 'capital-loss': 11, 'hours-per-week':12, 'native-country':13 }\n",
        "continuous_cols = [0,2,4,10,11,12]\n",
        "categorical_cols = [1,3,5,6,7,8,9,13,14]             "
      ],
      "execution_count": null,
      "outputs": []
    },
    {
      "cell_type": "code",
      "metadata": {
        "id": "cKUN250_cm6h"
      },
      "source": [
        "train_data = pd.read_csv('adult.data', header=None).to_numpy()\n",
        "test_data = pd.read_csv('adult.test', header=None).to_numpy()"
      ],
      "execution_count": null,
      "outputs": []
    },
    {
      "cell_type": "code",
      "metadata": {
        "id": "Cwx-QwULfq5e"
      },
      "source": [
        "for i in continuous_cols:\n",
        "  train_data[:,i].astype(np.float)\n",
        "  test_data[:,i].astype(np.float)"
      ],
      "execution_count": null,
      "outputs": []
    },
    {
      "cell_type": "code",
      "metadata": {
        "id": "nPfYqEO-ku7Y"
      },
      "source": [
        "for i in categorical_cols:\n",
        "  OE = OrdinalEncoder()\n",
        "  \n",
        "  Imputer = SimpleImputer(missing_values=' ?', strategy='most_frequent')\n",
        "  train_data[:,i] = Imputer.fit_transform(train_data[:,i].reshape(-1,1)).reshape(1,-1)\n",
        "  test_data[:,i] = Imputer.transform(test_data[:,i].reshape(-1,1)).reshape(1,-1)\n",
        "\n",
        "  train_data[:,i] = OE.fit_transform(train_data[:,i].reshape(-1,1)).reshape(1,-1)\n",
        "  test_data[:,i] = OE.transform(test_data[:,i].reshape(-1,1)).reshape(1,-1)"
      ],
      "execution_count": null,
      "outputs": []
    },
    {
      "cell_type": "code",
      "metadata": {
        "colab": {
          "base_uri": "https://localhost:8080/"
        },
        "id": "AvUuHyFgpsWl",
        "outputId": "0c5b96cf-4ca1-44e1-80d0-02f9c0c7b79d"
      },
      "source": [
        "X_train, y_train = train_data[:, :-1] , train_data[:, -1].astype(np.float)\n",
        "X_test, y_test = test_data[:, :-1] , test_data[:, -1].astype(np.float)\n",
        "print(y_test.shape)"
      ],
      "execution_count": null,
      "outputs": [
        {
          "output_type": "stream",
          "text": [
            "(16281,)\n"
          ],
          "name": "stdout"
        }
      ]
    },
    {
      "cell_type": "code",
      "metadata": {
        "colab": {
          "base_uri": "https://localhost:8080/"
        },
        "id": "w8NeCUvzjQA2",
        "outputId": "68beebc9-49c2-4b17-cb23-792ddf331be0"
      },
      "source": [
        "model = XGBClassifier(max_depth=5)\n",
        "model.fit(X_train,y_train)"
      ],
      "execution_count": null,
      "outputs": [
        {
          "output_type": "execute_result",
          "data": {
            "text/plain": [
              "XGBClassifier(base_score=0.5, booster='gbtree', colsample_bylevel=1,\n",
              "              colsample_bynode=1, colsample_bytree=1, gamma=0,\n",
              "              learning_rate=0.1, max_delta_step=0, max_depth=5,\n",
              "              min_child_weight=1, missing=None, n_estimators=100, n_jobs=1,\n",
              "              nthread=None, objective='binary:logistic', random_state=0,\n",
              "              reg_alpha=0, reg_lambda=1, scale_pos_weight=1, seed=None,\n",
              "              silent=None, subsample=1, verbosity=1)"
            ]
          },
          "metadata": {
            "tags": []
          },
          "execution_count": 71
        }
      ]
    },
    {
      "cell_type": "code",
      "metadata": {
        "colab": {
          "base_uri": "https://localhost:8080/"
        },
        "id": "B7jmnnG6kDkN",
        "outputId": "2857fa7d-e118-4db4-e926-bce57d60e9ce"
      },
      "source": [
        "y_pred = model.predict(X_test)\n",
        "print(y_pred, y_test)"
      ],
      "execution_count": null,
      "outputs": [
        {
          "output_type": "stream",
          "text": [
            "[0. 0. 0. ... 1. 0. 1.] [0. 0. 1. ... 0. 0. 1.]\n"
          ],
          "name": "stdout"
        }
      ]
    },
    {
      "cell_type": "code",
      "metadata": {
        "id": "P3byEl0JvT_f"
      },
      "source": [
        "def print_scores(y1,y2):\n",
        "  y1,y2 = y1.astype(np.float), y2.astype(np.float)\n",
        "  accuracy = accuracy_score(y1,y2)\n",
        "  cf_matrix = confusion_matrix(y1,y2)\n",
        "  avg_precision = average_precision_score(y1,y2)\n",
        "\n",
        "  print('\\n Accuracy : ' + str(accuracy))\n",
        "  print('\\n Confusion matrix :\\n ' + str(cf_matrix))\n",
        "  print('\\n Average Precision Score : ' + str(avg_precision))"
      ],
      "execution_count": null,
      "outputs": []
    },
    {
      "cell_type": "code",
      "metadata": {
        "colab": {
          "base_uri": "https://localhost:8080/"
        },
        "id": "EklrLQ9mkukF",
        "outputId": "90d70742-c51f-4668-834b-430cdb73c116"
      },
      "source": [
        "accuracy = accuracy_score(y_test.astype(np.float), y_pred.astype(np.float))\n",
        "print_scores(y_test, y_pred)"
      ],
      "execution_count": null,
      "outputs": [
        {
          "output_type": "stream",
          "text": [
            "\n",
            " Accuracy : 0.8734107241569928\n",
            "\n",
            " Confusion matrix :\n",
            " [[11798   637]\n",
            " [ 1424  2422]]\n",
            "\n",
            " Average Precision Score : 0.5860722346117625\n"
          ],
          "name": "stdout"
        }
      ]
    },
    {
      "cell_type": "code",
      "metadata": {
        "colab": {
          "base_uri": "https://localhost:8080/"
        },
        "id": "Ziy4m4UKl5UA",
        "outputId": "e0cd47f2-0376-4844-996b-81907d3026e0"
      },
      "source": [
        "max_depth_val = [3,4,5,6,7,8,9,10]\n",
        "kf = KFold(n_splits=10)\n",
        "\n",
        "\n",
        "for i in range(len(max_depth_val)):\n",
        "  my_list = []\n",
        "  for train_index, test_index in kf.split(X_train):\n",
        "    X_train_Kfold, X_test_Kfold = X_train[train_index], X_train[test_index]\n",
        "    y_train_Kfold, y_test_Kfold = y_train[train_index], y_train[test_index]\n",
        "    model = XGBClassifier(max_depth = max_depth_val[i])\n",
        "    model.fit(X_train_Kfold, y_train_Kfold)\n",
        "    y_pred_Kfold = model.predict(X_test_Kfold)\n",
        "    my_list.append(accuracy_score(y_test_Kfold, y_pred_Kfold))\n",
        "  \n",
        "  print(\"\\nFor max_depth = \" + str(max_depth_val[i]) + \" - mean : \" + str(statistics.mean(my_list)) + \" , variance : \" + str(statistics.variance(my_list)))\n"
      ],
      "execution_count": null,
      "outputs": [
        {
          "output_type": "stream",
          "text": [
            "\n",
            "For max_depth = 3 - mean : 0.8624123226556447 , variance : 2.9060335094163053e-05\n",
            "\n",
            "For max_depth = 4 - mean : 0.8684624366041315 , variance : 2.938011737040485e-05\n",
            "\n",
            "For max_depth = 5 - mean : 0.8716257706893261 , variance : 3.796171406888943e-05\n",
            "\n",
            "For max_depth = 6 - mean : 0.8724549712997671 , variance : 3.035801285392901e-05\n",
            "\n",
            "For max_depth = 7 - mean : 0.8725777554147219 , variance : 3.8015468434759706e-05\n",
            "\n",
            "For max_depth = 8 - mean : 0.8723935179492441 , variance : 3.5444160081458636e-05\n",
            "\n",
            "For max_depth = 9 - mean : 0.8730385282427039 , variance : 2.7687810529702096e-05\n",
            "\n",
            "For max_depth = 10 - mean : 0.8715336236674892 , variance : 2.637496412355618e-05\n"
          ],
          "name": "stdout"
        }
      ]
    },
    {
      "cell_type": "code",
      "metadata": {
        "id": "2yXzFxPf6_Q4"
      },
      "source": [
        "param_test = {\n",
        "  'max_depth':[4,5,6,7,8,9],\n",
        "  'reg_alpha':[0, 0.001, 0.005, 0.01, 0.05],\n",
        "  'learning_rate':[0.01,0.05,0.1,0.15,0.2,0.25,0.3],\n",
        "  'min_child_weight':[4,5,6],\n",
        "  'gamma':[i/10.0 for i in range(0,5)],\n",
        "  'subsample':[i/10.0 for i in range(6,10)],\n",
        "  'colsample_bytree':[i/10.0 for i in range(6,10)]\n",
        "}"
      ],
      "execution_count": null,
      "outputs": []
    },
    {
      "cell_type": "code",
      "metadata": {
        "id": "h1oq00W68eBy"
      },
      "source": [
        "model = XGBClassifier()\n",
        "clf = RandomizedSearchCV(model, param_test, scoring='roc_auc',cv=10)\n",
        "search = clf.fit(X_train, y_train.astype(np.float))"
      ],
      "execution_count": null,
      "outputs": []
    },
    {
      "cell_type": "code",
      "metadata": {
        "colab": {
          "base_uri": "https://localhost:8080/"
        },
        "id": "HLOoJdx39HIQ",
        "outputId": "3071bc1c-7ec9-44e2-b0f9-1dcc72445561"
      },
      "source": [
        "search.best_params_"
      ],
      "execution_count": null,
      "outputs": [
        {
          "output_type": "execute_result",
          "data": {
            "text/plain": [
              "{'colsample_bytree': 0.6,\n",
              " 'gamma': 0.4,\n",
              " 'learning_rate': 0.15,\n",
              " 'max_depth': 7,\n",
              " 'min_child_weight': 4,\n",
              " 'reg_alpha': 0.001,\n",
              " 'subsample': 0.8}"
            ]
          },
          "metadata": {
            "tags": []
          },
          "execution_count": 81
        }
      ]
    },
    {
      "cell_type": "code",
      "metadata": {
        "colab": {
          "base_uri": "https://localhost:8080/"
        },
        "id": "rSTaM-An_Y_N",
        "outputId": "f91ece1d-b253-42be-b6ae-1a8748748d3f"
      },
      "source": [
        "model = XGBClassifier(max_depth=7,learning_rate=0.15,gamma=0.4,colsample_bytree=0.6,min_child_weight=4,reg_alpha=0.001,subsample=0.8)\n",
        "model.fit(X_train,y_train)\n",
        "y_pred = model.predict(X_test)\n",
        "print_scores(y_test,y_pred)"
      ],
      "execution_count": null,
      "outputs": [
        {
          "output_type": "stream",
          "text": [
            "\n",
            " Accuracy : 0.8726122474049506\n",
            "\n",
            " Confusion matrix :\n",
            " [[11698   737]\n",
            " [ 1337  2509]]\n",
            "\n",
            " Average Precision Score : 0.5863674999321782\n"
          ],
          "name": "stdout"
        }
      ]
    }
  ]
}