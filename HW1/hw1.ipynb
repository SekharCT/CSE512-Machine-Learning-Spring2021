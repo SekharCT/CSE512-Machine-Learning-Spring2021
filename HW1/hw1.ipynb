{
  "nbformat": 4,
  "nbformat_minor": 0,
  "metadata": {
    "colab": {
      "name": "hw1.ipynb",
      "provenance": []
    },
    "kernelspec": {
      "name": "python3",
      "display_name": "Python 3"
    }
  },
  "cells": [
    {
      "cell_type": "markdown",
      "metadata": {
        "id": "asEymDT_y9ZP"
      },
      "source": [
        "Write a Python file hw1.py that contains a function with the following signature:\n",
        "\n",
        "**$[mu0; var0;mu1; var1]$ = $get\\_mean\\_and\\_variance(X,y)$** \\\\\n",
        "where \\\\\n",
        "\n",
        "**Inputs:**\n",
        "* $X$ : a two dimensional Numpy array of size $n$ $\\times$ $d$, where $n$ is the number of data points, and $d$ the\n",
        "dimension of the feature vectors.\n",
        "* $y$ : a Numpy vector of length $n$. $y[i]$ is a binary label corresponding to the data point $X[i; :]$.\n",
        "\n",
        "\\\\\n",
        "**Outputs:** \\\\\n",
        "* $mu0$: a Numpy vector of length $d$, $mu0[j]$ is the mean of $X[i; j]$ $\\forall$ $i$ where $y[i]$ $=$ $0$. Basically,\n",
        "$mu0[j]$ is the mean of the $jth$ feature for all the negative data points.\n",
        "* $var0$: a Numpy vector of length $d$, $var0[j]$ is the variance of $X[i; j]$ $\\forall$ $i$ where $y[i]$ $=$ $0$.\n",
        "* $mu1$: a Numpy vector of length $d$, $mu1[j]$ is the mean of $X[i; j]$ $\\forall$ $i$ where $y[i]$ $=$ $1$.\n",
        "* $var1$: a Numpy vector of length $d$, $var1[j]$ is the variance of $X[i; j]$ $\\forall$ $i$ where $y[i]$ $=$ $1$."
      ]
    },
    {
      "cell_type": "code",
      "metadata": {
        "id": "OiI870LWy6Ed"
      },
      "source": [
        "import numpy as np"
      ],
      "execution_count": null,
      "outputs": []
    },
    {
      "cell_type": "code",
      "metadata": {
        "id": "1eFURJCpz-J-"
      },
      "source": [
        "def get_mean_and_variance_feature(X,feature_index,y,label_value):\n",
        "  shape = X.shape\n",
        "  mean_and_variance_list = []\n",
        "\n",
        "  for i in range(shape[0]):\n",
        "    if (y[i] == label_value):\n",
        "      mean_and_variance_list.append(X[i,feature_index])\n",
        "\n",
        "  mean_and_variance_array = np.array(mean_and_variance_list)\n",
        "  mean = np.mean(mean_and_variance_array)\n",
        "  variance = np.var(mean_and_variance_array)\n",
        "\n",
        "  return mean, variance "
      ],
      "execution_count": null,
      "outputs": []
    },
    {
      "cell_type": "code",
      "metadata": {
        "id": "QD8byo8gzaBW"
      },
      "source": [
        "def get_mean_and_variance(X,y):\n",
        "  feature_length = len(X[1,:])\n",
        "\n",
        "  mean_array_0 = np.zeros([1,feature_length])\n",
        "  variance_array_0 = np.zeros([1,feature_length])\n",
        "\n",
        "  mean_array_1 = np.zeros([1,feature_length])\n",
        "  variance_array_1 = np.zeros([1,feature_length])\n",
        "  for feature_index in range(feature_length):\n",
        "    mean_array_0[feature_index], variance_array_0[feature_index] = get_mean_and_variance_feature(X,feature_index,y,0)\n",
        "    mean_array_1[feature_index], variance_array_1[feature_index] = get_mean_and_variance_feature(X,feature_index,y,1)\n",
        "\n",
        "  return mean_array_0, variance_array_0, mean_array_1, variance_array_0\n",
        "    "
      ],
      "execution_count": null,
      "outputs": []
    }
  ]
}